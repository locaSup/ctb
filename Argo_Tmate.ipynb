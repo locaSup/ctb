{
  "nbformat": 4,
  "nbformat_minor": 0,
  "metadata": {
    "accelerator": "GPU",
    "colab": {
      "name": "Argo_Tmate.ipynb",
      "provenance": [],
      "collapsed_sections": []
    },
    "kernelspec": {
      "display_name": "Python 3",
      "name": "python3"
    },
    "language_info": {
      "name": "python"
    }
  },
  "cells": [
    {
      "cell_type": "code",
      "metadata": {
        "colab": {
          "base_uri": "https://localhost:8080/"
        },
        "id": "OMAze2Hp239U",
        "outputId": "870ef3bc-40be-4571-b922-2852a0ed2a0a"
      },
      "source": [
        "!nvidia-smi"
      ],
      "execution_count": 1,
      "outputs": [
        {
          "output_type": "stream",
          "name": "stdout",
          "text": [
            "Wed Feb 16 16:00:18 2022       \n",
            "+-----------------------------------------------------------------------------+\n",
            "| NVIDIA-SMI 460.32.03    Driver Version: 460.32.03    CUDA Version: 11.2     |\n",
            "|-------------------------------+----------------------+----------------------+\n",
            "| GPU  Name        Persistence-M| Bus-Id        Disp.A | Volatile Uncorr. ECC |\n",
            "| Fan  Temp  Perf  Pwr:Usage/Cap|         Memory-Usage | GPU-Util  Compute M. |\n",
            "|                               |                      |               MIG M. |\n",
            "|===============================+======================+======================|\n",
            "|   0  Tesla T4            Off  | 00000000:00:04.0 Off |                    0 |\n",
            "| N/A   37C    P8     9W /  70W |      0MiB / 15109MiB |      0%      Default |\n",
            "|                               |                      |                  N/A |\n",
            "+-------------------------------+----------------------+----------------------+\n",
            "                                                                               \n",
            "+-----------------------------------------------------------------------------+\n",
            "| Processes:                                                                  |\n",
            "|  GPU   GI   CI        PID   Type   Process name                  GPU Memory |\n",
            "|        ID   ID                                                   Usage      |\n",
            "|=============================================================================|\n",
            "|  No running processes found                                                 |\n",
            "+-----------------------------------------------------------------------------+\n"
          ]
        }
      ]
    },
    {
      "cell_type": "code",
      "source": [
        "!pip install colab_ssh --upgrade"
      ],
      "metadata": {
        "id": "oArBDDgOrrfQ",
        "colab": {
          "base_uri": "https://localhost:8080/"
        },
        "outputId": "d6814750-5f0c-48a7-9eff-c9a97b56d91e"
      },
      "execution_count": 2,
      "outputs": [
        {
          "output_type": "stream",
          "name": "stdout",
          "text": [
            "Collecting colab_ssh\n",
            "  Downloading colab_ssh-0.3.27-py3-none-any.whl (26 kB)\n",
            "Installing collected packages: colab-ssh\n",
            "Successfully installed colab-ssh-0.3.27\n"
          ]
        }
      ]
    },
    {
      "cell_type": "code",
      "source": [
        "from colab_ssh import launch_ssh_cloudflared, init_git_cloudflared"
      ],
      "metadata": {
        "id": "4mMnt-J9rsST"
      },
      "execution_count": 3,
      "outputs": []
    },
    {
      "cell_type": "code",
      "source": [
        "launch_ssh_cloudflared(password=\"z\")"
      ],
      "metadata": {
        "id": "rmSFqT9XrvXN",
        "colab": {
          "base_uri": "https://localhost:8080/",
          "height": 221
        },
        "outputId": "d82ead3e-6414-487f-9270-d48677372fd3"
      },
      "execution_count": 4,
      "outputs": [
        {
          "output_type": "display_data",
          "data": {
            "text/html": [
              "<style>\n",
              "*{\n",
              "\toutline:none;\n",
              "}\n",
              "code{\n",
              "\tdisplay:inline-block;\n",
              "\tpadding:5px 10px;\n",
              "\tbackground: #444;\n",
              "\tborder-radius: 4px;\n",
              "\twhite-space: pre-wrap;\n",
              "\tposition:relative;\n",
              "\tcolor:white;\n",
              "}\n",
              ".copy-code-button{\n",
              "\tfloat:right;\n",
              "\tbackground:#333;\n",
              "\tcolor:white;\n",
              "\tborder: none;\n",
              "\tmargin: 0 0 0 10px;\n",
              "\tcursor: pointer;\n",
              "}\n",
              "p, li{\n",
              "\tmax-width:700px;\n",
              "}\n",
              ".choices{\n",
              "\tdisplay:flex;\n",
              "\tflex: 1 0 auto;\n",
              "}\n",
              ".choice-section{\n",
              "\tborder:solid 1px #555;\n",
              "\tborder-radius: 4px;\n",
              "\tmin-width:300px;\n",
              "\tmargin: 10px 15px 0 0;\n",
              "\tpadding: 0 15px 15px 15px ;\n",
              "}\n",
              ".button{\n",
              "\tpadding: 10px 15px;\n",
              "\tbackground:#333;\n",
              "\tborder-radius: 4px;\n",
              "\tborder:solid 1px #555;\n",
              "\tcolor:white;\n",
              "\tfont-weight:bold;\n",
              "\tcursor:pointer;\n",
              "}\n",
              ".pill{\n",
              "\tpadding:2px 4px;\n",
              "\tborder-radius: 100px;\n",
              "\tbackground-color:#e65858;\n",
              "\tfont-size:12px;\n",
              "\tfont-weight:bold;\n",
              "\tmargin: 0 15px;\n",
              "\tcolor:white;\n",
              "}\n",
              "</style>\n",
              "<details class=\"choice-section\">\n",
              "\t<summary style=\"cursor:pointer\">\n",
              "\t\t<h3 style=\"display:inline-block;margin-top:15px\">⚙️ Client machine configuration<span class=\"pill\">Required</span></h3>\n",
              "\t</summary>\n",
              "\t<p>Don't worry, you only have to do this <b>once per client machine</b>.</p>\n",
              "\t<ol>\n",
              "\t\t<li>Download <a href=\"https://developers.cloudflare.com/argo-tunnel/getting-started/installation\">Cloudflared (Argo Tunnel)</a>, then copy the absolute path of the cloudflare binary</li>\n",
              "\t\t<li>Now, you have to append the following to your SSH config file (usually under ~/.ssh/config), and make sure you replace the placeholder with the path you copied in Step 1:</li>\n",
              "\t</ol>\n",
              "\t<code>Host *.trycloudflare.com\n",
              "\tHostName %h\n",
              "\tUser root\n",
              "\tPort 22\n",
              "\tProxyCommand &ltPUT_THE_ABSOLUTE_CLOUDFLARE_PATH_HERE&gt access ssh --hostname %h\n",
              "\t</code>\n",
              "</details>\n",
              "<div class=\"choices\">\n",
              "\t<div class=\"choice-section\">\n",
              "\t\t<h4>SSH Terminal</h4>\n",
              "\t\t<p>To connect using your terminal, type this command:</p>\n",
              "\t\t<code>ssh vintage-arrested-requirement-webmasters.trycloudflare.com</code>\n",
              "\t</div>\n",
              "\t<div class=\"choice-section\">\n",
              "\t\t<h4>VSCode Remote SSH</h4>\n",
              "\t\t<p>You can also connect with VSCode Remote SSH (Ctrl+Shift+P and type \"Connect to Host...\"). Then, paste the following hostname in the opened command palette:</p>\n",
              "\t\t<code>vintage-arrested-requirement-webmasters.trycloudflare.com</code>\n",
              "\t</div>\n",
              "</div>\n",
              "\n",
              "<script>\n",
              "// Copy any string\n",
              "function fallbackCopyTextToClipboard(text) {\n",
              "  var textArea = document.createElement(\"textarea\");\n",
              "  textArea.value = text;\n",
              "  \n",
              "  // Avoid scrolling to bottom\n",
              "  textArea.style.top = \"0\";\n",
              "  textArea.style.left = \"0\";\n",
              "  textArea.style.position = \"fixed\";\n",
              "\n",
              "  document.body.appendChild(textArea);\n",
              "  textArea.focus();\n",
              "  textArea.select();\n",
              "\n",
              "  try {\n",
              "    var successful = document.execCommand('copy');\n",
              "    var msg = successful ? 'successful' : 'unsuccessful';\n",
              "    console.log('Fallback: Copying text command was ' + msg);\n",
              "  } catch (err) {\n",
              "    console.error('Fallback: Oops, unable to copy', err);\n",
              "  }\n",
              "\n",
              "  document.body.removeChild(textArea);\n",
              "}\n",
              "\n",
              "// Show the copy button with every code tag\n",
              "document.querySelectorAll('code').forEach(function (codeBlock) {\n",
              "\tconst codeToCopy= codeBlock.innerText;\n",
              "\tvar pre = document.createElement('pre');\n",
              "\tpre.innerText = codeToCopy;\n",
              "    var button = document.createElement('button');\n",
              "    button.className = 'copy-code-button';\n",
              "    button.type = 'button';\n",
              "    button.innerText = 'Copy';\n",
              "\tbutton.onclick = function(){\n",
              "\t\tfallbackCopyTextToClipboard(codeToCopy);\n",
              "\t\tbutton.innerText = 'Copied'\n",
              "\t\tsetTimeout(()=>{\n",
              "\t\t\tbutton.innerText = 'Copy'\n",
              "\t\t},2000)\n",
              "\t}\n",
              "\tcodeBlock.children = pre;\n",
              "\tcodeBlock.prepend(button)\n",
              "});\n",
              "</script>\n"
            ],
            "text/plain": [
              "<IPython.core.display.HTML object>"
            ]
          },
          "metadata": {}
        }
      ]
    },
    {
      "cell_type": "code",
      "source": [
        "import IPython\n",
        "js_code = '''\n",
        "function ClickConnect()\n",
        "{ console.log(\"Connnect Clicked - Start\");\n",
        " document.querySelector(\"#top-toolbar > colab-connect-button\").shadowRoot.querySelector(\"#connect\").click(); \n",
        "console.log(\"Connnect Clicked - End\"); \n",
        "}setInterval(ClickConnect,6000)\n",
        "'''\n",
        "display(IPython.display.Javascript(js_code))"
      ],
      "metadata": {
        "id": "It6zIfTK9Qss",
        "colab": {
          "base_uri": "https://localhost:8080/",
          "height": 17
        },
        "outputId": "3d086292-3bb8-4a71-fe8b-ac02e8f8606a"
      },
      "execution_count": 5,
      "outputs": [
        {
          "output_type": "display_data",
          "data": {
            "application/javascript": [
              "\n",
              "function ClickConnect()\n",
              "{ console.log(\"Connnect Clicked - Start\");\n",
              " document.querySelector(\"#top-toolbar > colab-connect-button\").shadowRoot.querySelector(\"#connect\").click(); \n",
              "console.log(\"Connnect Clicked - End\"); \n",
              "}setInterval(ClickConnect,6000)\n"
            ],
            "text/plain": [
              "<IPython.core.display.Javascript object>"
            ]
          },
          "metadata": {}
        }
      ]
    },
    {
      "cell_type": "code",
      "metadata": {
        "id": "sWyvGtRi5hAI",
        "cellView": "form",
        "colab": {
          "base_uri": "https://localhost:8080/"
        },
        "outputId": "0411226b-85f4-47e8-f2f1-2c85f8e27e3a"
      },
      "source": [
        "!wget -nc https://github.com/tmate-io/tmate/releases/download/2.4.0/tmate-2.4.0-static-linux-i386.tar.xz &> /dev/null\n",
        "!tar --skip-old-files -xvf tmate-2.4.0-static-linux-i386.tar.xz &> /dev/null\n",
        "!rm -f nohup.out; bash -ic 'nohup ./tmate-2.4.0-static-linux-i386/tmate -S /tmp/tmate.sock new-session -d & disown -a' >/dev/null 2>&1\n",
        "!./tmate-2.4.0-static-linux-i386/tmate -S /tmp/tmate.sock wait tmate-ready\n",
        "!./tmate-2.4.0-static-linux-i386/tmate -S /tmp/tmate.sock display -p \"Connect with SSH address: #{tmate_ssh}\"\n",
        "!./tmate-2.4.0-static-linux-i386/tmate -S /tmp/tmate.sock display -p \"Connect with web: #{tmate_web}\""
      ],
      "execution_count": 6,
      "outputs": [
        {
          "output_type": "stream",
          "name": "stdout",
          "text": [
            "Connect with SSH address: ssh eqXg7eUw5z6EV3d9FwaR7rXkF@sfo2.tmate.io\n",
            "Connect with web: https://tmate.io/t/eqXg7eUw5z6EV3d9FwaR7rXkF\n"
          ]
        }
      ]
    },
    {
      "cell_type": "code",
      "source": [
        "!watch -d -n 100 nvidia-smi"
      ],
      "metadata": {
        "id": "BI9Fht6es3Ak",
        "colab": {
          "base_uri": "https://localhost:8080/"
        },
        "outputId": "27f91e62-4306-4cea-ce1e-d894943ff209"
      },
      "execution_count": null,
      "outputs": [
        {
          "output_type": "stream",
          "name": "stdout",
          "text": [
            "\u001b)0\u001b7\u001b[?47h\u001b[1;24r\u001b[m\u001b[4l\u001b[H\u001b[2JEvery 100.0s: nvidia-smi\u001b[1;43He3fc83e2baff: Wed Feb 16 16:00:45 2022\u001b[3;1HWed Feb 16 16:00:45 2022\r\u001b[1B+-----------------------------------------------------------------------------+\r\u001b[1B| NVIDIA-SMI 460.32.03    Driver Version: 460.32.03    CUDA Version: 11.2     |\r\u001b[1B|-------------------------------+----------------------+----------------------+\r\u001b[1B| GPU  Name\u001b[7;20HPersistence-M| Bus-Id\u001b[7;49HDisp.A | Volatile Uncorr. ECC |\r\u001b[1B| Fan  Temp  Perf  Pwr:Usage/Cap|\u001b[8;43HMemory-Usage | GPU-Util  Compute M. |\r\u001b[1B|\u001b[9;33H|\u001b[9;56H|\u001b[9;72HMIG M. |\r\u001b[1B|===============================+======================+======================|\r\u001b[1B|   0  Tesla T4\u001b[11;28HOff  | 00000000:00:04.0 Off |\u001b[20C0 |\r\u001b[1B| N/A   37C    P8     9W /  70W |\u001b[6C0MiB / 15109MiB |\u001b[6C0%\u001b[6CDefault |\r\u001b[1B|\u001b[13;33H|\u001b[13;56H|\u001b[18CN/A |\r\u001b[1B+-------------------------------+----------------------+----------------------+\r\u001b[2B+-----------------------------------------------------------------------------+\r\u001b[1B| Processes:\u001b[66C|\r\u001b[1B|  GPU   GI   CI\u001b[18;25HPID   Type   Process name\u001b[18;68HGPU Memory |\r\u001b[1B|\u001b[19;10HID   ID\u001b[19;68HUsage\u001b[6C|\r\u001b[1B|=============================================================================|\r\u001b[1B|  No running processes found\u001b[49C|\r\u001b[1B+-----------------------------------------------------------------------------+\u001b[2B"
          ]
        }
      ]
    },
    {
      "cell_type": "code",
      "metadata": {
        "id": "jtgffvkG3as0"
      },
      "source": [
        "! pip install VSColab"
      ],
      "execution_count": null,
      "outputs": []
    },
    {
      "cell_type": "code",
      "metadata": {
        "id": "shtpdNKO3crD"
      },
      "source": [
        "from VSColab import Connect, GetSSH, Kill, VSConfig"
      ],
      "execution_count": null,
      "outputs": []
    },
    {
      "cell_type": "code",
      "metadata": {
        "id": "3i35FuPV3nVb"
      },
      "source": [
        "Connect('z')"
      ],
      "execution_count": null,
      "outputs": []
    },
    {
      "cell_type": "code",
      "metadata": {
        "id": "XxLzFsIH3pvy"
      },
      "source": [
        "GetSSH()"
      ],
      "execution_count": null,
      "outputs": []
    },
    {
      "cell_type": "code",
      "metadata": {
        "id": "Z9oLnHlA4vRz"
      },
      "source": [
        "! watch -d -n 100 nvidia-smi"
      ],
      "execution_count": null,
      "outputs": []
    }
  ]
}